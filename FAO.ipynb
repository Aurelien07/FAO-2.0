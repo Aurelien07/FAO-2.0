{
  "nbformat": 4,
  "nbformat_minor": 0,
  "metadata": {
    "colab": {
      "provenance": [],
      "toc_visible": true,
      "authorship_tag": "ABX9TyObg7yPTrMB17YqKlS5+/RE",
      "include_colab_link": true
    },
    "kernelspec": {
      "name": "python3",
      "display_name": "Python 3"
    },
    "language_info": {
      "name": "python"
    }
  },
  "cells": [
    {
      "cell_type": "markdown",
      "metadata": {
        "id": "view-in-github",
        "colab_type": "text"
      },
      "source": [
        "<a href=\"https://colab.research.google.com/github/Aurelien07/FAO-2.0/blob/main/FAO.ipynb\" target=\"_parent\"><img src=\"https://colab.research.google.com/assets/colab-badge.svg\" alt=\"Open In Colab\"/></a>"
      ]
    },
    {
      "cell_type": "markdown",
      "source": [
        "# FAO ou comment utiliser ses données pour un monde meilleur :"
      ],
      "metadata": {
        "id": "tgoYh1lmW2bB"
      }
    },
    {
      "cell_type": "markdown",
      "source": [
        "Dans ce contexte, j'ai décidé de m'orienter sur une étude me permettant de mettre en valeur certaines datas du site FA0 pour me permettre de mettre en relief un top des marques en fonction de plusieurs critéres qui seront vu au fur et à mesure. On mettra également en avant les additifs, ainsi que le novascore et nutriscore pour avoir une vue globale du produit."
      ],
      "metadata": {
        "id": "BoMbSJCovRnD"
      }
    },
    {
      "cell_type": "markdown",
      "source": [
        "On utilisera une méthode de tags via le NLP pour détecter les allergénes etc etc."
      ],
      "metadata": {
        "id": "7CvSREDY8iUl"
      }
    },
    {
      "cell_type": "markdown",
      "source": [
        "## Import des dépendances :"
      ],
      "metadata": {
        "id": "xHVNJ6aHFyeY"
      }
    },
    {
      "cell_type": "code",
      "source": [
        "!pip install langid"
      ],
      "metadata": {
        "colab": {
          "base_uri": "https://localhost:8080/"
        },
        "id": "lFjks-3YF0bm",
        "outputId": "bf5660d7-6e87-46c6-a55b-bbef26c339c6"
      },
      "execution_count": 1,
      "outputs": [
        {
          "output_type": "stream",
          "name": "stdout",
          "text": [
            "Looking in indexes: https://pypi.org/simple, https://us-python.pkg.dev/colab-wheels/public/simple/\n",
            "Requirement already satisfied: langid in /usr/local/lib/python3.10/dist-packages (1.1.6)\n",
            "Requirement already satisfied: numpy in /usr/local/lib/python3.10/dist-packages (from langid) (1.22.4)\n"
          ]
        }
      ]
    },
    {
      "cell_type": "markdown",
      "source": [
        "## Import des librairies"
      ],
      "metadata": {
        "id": "g19450tfW3yo"
      }
    },
    {
      "cell_type": "code",
      "source": [
        "import ipywidgets as widgets\n",
        "from IPython.display import display, HTML\n",
        "\n",
        "import numpy as np\n",
        "import pandas as pd\n",
        "import matplotlib.pyplot as plt\n",
        "import seaborn as sns"
      ],
      "metadata": {
        "id": "oBoCov9eXJVf"
      },
      "execution_count": 2,
      "outputs": []
    },
    {
      "cell_type": "code",
      "execution_count": 3,
      "metadata": {
        "colab": {
          "base_uri": "https://localhost:8080/"
        },
        "id": "48VJYCwpWxf8",
        "outputId": "d8832ecf-9abf-42d7-c9b2-fa8ddeb41dfa"
      },
      "outputs": [
        {
          "output_type": "stream",
          "name": "stdout",
          "text": [
            "Drive already mounted at /content/drive; to attempt to forcibly remount, call drive.mount(\"/content/drive\", force_remount=True).\n"
          ]
        }
      ],
      "source": [
        "from google.colab import drive\n",
        "drive.mount('/content/drive')"
      ]
    },
    {
      "cell_type": "markdown",
      "source": [
        "## Lecture du CSV :"
      ],
      "metadata": {
        "id": "GNdjtNKbayRg"
      }
    },
    {
      "cell_type": "code",
      "source": [
        "df = pd.read_csv(\"/content/drive/My Drive/FAO/fr.openfoodfacts.org.products.csv\",sep='\\t')"
      ],
      "metadata": {
        "colab": {
          "base_uri": "https://localhost:8080/"
        },
        "id": "dQFpSlOBW2nh",
        "outputId": "50a39718-6a77-49bf-c126-7487a7103e2f"
      },
      "execution_count": 4,
      "outputs": [
        {
          "output_type": "stream",
          "name": "stderr",
          "text": [
            "<ipython-input-4-470ba990abdd>:1: DtypeWarning: Columns (0,3,5,19,20,24,25,26,27,28,35,36,37,38,39,48) have mixed types. Specify dtype option on import or set low_memory=False.\n",
            "  df = pd.read_csv(\"/content/drive/My Drive/FAO/fr.openfoodfacts.org.products.csv\",sep='\\t')\n"
          ]
        }
      ]
    },
    {
      "cell_type": "markdown",
      "source": [
        "# Preprocessing :"
      ],
      "metadata": {
        "id": "mjhQD4F9a2tg"
      }
    },
    {
      "cell_type": "markdown",
      "source": [
        "## Fonction de preprocessing :"
      ],
      "metadata": {
        "id": "OO-vtRrxbzCK"
      }
    },
    {
      "cell_type": "code",
      "source": [
        "import pandas as pd\n",
        "from IPython.display import display\n",
        "\n",
        "def detect_missing_data(data: pd.DataFrame):\n",
        "    \"\"\"\n",
        "    Détecte les données manquantes dans un DataFrame.\n",
        "\n",
        "    Parameters:\n",
        "    ----------\n",
        "    data : pd.DataFrame\n",
        "        Le DataFrame contenant les données.\n",
        "\n",
        "    Returns:\n",
        "    -------\n",
        "    pd.DataFrame\n",
        "        Un DataFrame avec les colonnes du DataFrame d'origine, une colonne indiquant le nombre de valeurs manquantes par colonne\n",
        "        et une colonne avec le pourcentage de valeurs manquantes en entier.\n",
        "\n",
        "    \"\"\"\n",
        "\n",
        "    missing_data = data.isnull().sum().reset_index()\n",
        "    missing_data.columns = ['Colonne', 'Valeurs_manquantes'] # Nommage des colonnes\n",
        "    missing_data['Pourcentage_manquants'] = (missing_data['Valeurs_manquantes'] / data.shape[0]) * 100 \n",
        "    missing_data = missing_data[missing_data['Valeurs_manquantes'] > 0].sort_values(by='Valeurs_manquantes', ascending=False)\n",
        "    missing_data.reset_index(drop=True, inplace=True)\n",
        "    missing_data['Pourcentage_manquants'] = missing_data['Pourcentage_manquants'].astype(int)  # Conversion en entier (integer)\n",
        "\n",
        "    return missing_data\n",
        "\n",
        "\n",
        "def visualize_missing_columns(data: pd.DataFrame):\n",
        "\n",
        "    \"\"\"\n",
        "    Visualise les colonnes avec un certain pourcentage de valeurs manquantes dans un DataFrame.\n",
        "\n",
        "    Parameters:\n",
        "    ----------\n",
        "    data : pd.DataFrame\n",
        "        Le DataFrame contenant les données.\n",
        "    \"\"\"\n",
        "    threshold = int(input(\"Entrez le seuil de pourcentage de valeurs manquantes pour la visualisation : \"))\n",
        "    missing_data = detect_missing_data(data)\n",
        "    missing_data_filtered = missing_data[missing_data['Pourcentage_manquants'] >= threshold]\n",
        "\n",
        "    display(missing_data_filtered[['Colonne', 'Pourcentage_manquants', 'Valeurs_manquantes']])\n"
      ],
      "metadata": {
        "id": "eKrRQ2SYdHNn"
      },
      "execution_count": 5,
      "outputs": []
    },
    {
      "cell_type": "markdown",
      "source": [
        "Cette fonction me permet de faire une visualisation des données manquantes par colonne et sur la totalité du dataframe. De cette façon je pourrais créer une fonction beaucoup plus intrusive par colonne par la suite pour visualiser les rows etc etc de la colonne."
      ],
      "metadata": {
        "id": "fZFNW1DbBz9F"
      }
    },
    {
      "cell_type": "markdown",
      "source": [],
      "metadata": {
        "id": "0IKHXnt_BgDo"
      }
    },
    {
      "cell_type": "code",
      "source": [
        "def filtrer_colonne_sans_nan(dataframe, colonne):\n",
        "    colonne_filtree = dataframe[colonne].dropna()\n",
        "    nb_lignes_avant_filtrage = dataframe.shape[0]\n",
        "    nb_lignes_apres_filtrage = colonne_filtree.shape[0]\n",
        "    pourcentage_lignes_supprimees = ((nb_lignes_avant_filtrage - nb_lignes_apres_filtrage) / nb_lignes_avant_filtrage) * 100\n",
        "    \n",
        "    df_filtre = pd.DataFrame(colonne_filtree, columns=[colonne])\n",
        "    \n",
        "    print(f\"Le nombre de lignes avant filtrage est de {nb_lignes_avant_filtrage}\")\n",
        "    print(f\"Le nombre de lignes après filtrage est de {nb_lignes_apres_filtrage}\")\n",
        "    print(f\"Le pourcentage de lignes supprimées après filtrage est de {round(pourcentage_lignes_supprimees, 5)}%\\n\")\n",
        "    \n",
        "    return df_filtre"
      ],
      "metadata": {
        "id": "R1HzeaY6BehL"
      },
      "execution_count": 6,
      "outputs": []
    },
    {
      "cell_type": "markdown",
      "source": [
        "Cette fonction me permet de recharger directement les rows dans une colonne ou les données ne sont pas manquantes en m'affichant un print avant aprés et le pourcentage supprimées. Evidemment cette fonction n'est que démonstrative et j'ai fait en sorte qu'elle ne soit qu'une visualisation pour notre dataframe."
      ],
      "metadata": {
        "id": "v9OUMytnBgc5"
      }
    },
    {
      "cell_type": "markdown",
      "source": [
        "## Visualisation des données :"
      ],
      "metadata": {
        "id": "woKbn0-mXvGz"
      }
    },
    {
      "cell_type": "markdown",
      "source": [
        "On va commencer par faire un .head() pour avoir une visualisation globale de notre dataframe. On utilisera des fonctions par la suite pour nous permettre de détecter les potentielles NaN et de pouvoir les supprimer en toute sécurité."
      ],
      "metadata": {
        "id": "Kfn8VGj1X22H"
      }
    },
    {
      "cell_type": "code",
      "source": [
        "df.head()"
      ],
      "metadata": {
        "colab": {
          "base_uri": "https://localhost:8080/",
          "height": 450
        },
        "id": "lzfM6pObZHJQ",
        "outputId": "d1fc2a19-9d83-4585-91ce-fafce560570b"
      },
      "execution_count": 7,
      "outputs": [
        {
          "output_type": "execute_result",
          "data": {
            "text/plain": [
              "    code                                                url  \\\n",
              "0   3087  http://world-fr.openfoodfacts.org/produit/0000...   \n",
              "1   4530  http://world-fr.openfoodfacts.org/produit/0000...   \n",
              "2   4559  http://world-fr.openfoodfacts.org/produit/0000...   \n",
              "3  16087  http://world-fr.openfoodfacts.org/produit/0000...   \n",
              "4  16094  http://world-fr.openfoodfacts.org/produit/0000...   \n",
              "\n",
              "                      creator   created_t      created_datetime  \\\n",
              "0  openfoodfacts-contributors  1474103866  2016-09-17T09:17:46Z   \n",
              "1             usda-ndb-import  1489069957  2017-03-09T14:32:37Z   \n",
              "2             usda-ndb-import  1489069957  2017-03-09T14:32:37Z   \n",
              "3             usda-ndb-import  1489055731  2017-03-09T10:35:31Z   \n",
              "4             usda-ndb-import  1489055653  2017-03-09T10:34:13Z   \n",
              "\n",
              "  last_modified_t last_modified_datetime                    product_name  \\\n",
              "0      1474103893   2016-09-17T09:18:13Z              Farine de blé noir   \n",
              "1      1489069957   2017-03-09T14:32:37Z  Banana Chips Sweetened (Whole)   \n",
              "2      1489069957   2017-03-09T14:32:37Z                         Peanuts   \n",
              "3      1489055731   2017-03-09T10:35:31Z          Organic Salted Nut Mix   \n",
              "4      1489055653   2017-03-09T10:34:13Z                 Organic Polenta   \n",
              "\n",
              "  generic_name quantity  ... ph_100g fruits-vegetables-nuts_100g  \\\n",
              "0          NaN      1kg  ...     NaN                         NaN   \n",
              "1          NaN      NaN  ...     NaN                         NaN   \n",
              "2          NaN      NaN  ...     NaN                         NaN   \n",
              "3          NaN      NaN  ...     NaN                         NaN   \n",
              "4          NaN      NaN  ...     NaN                         NaN   \n",
              "\n",
              "  collagen-meat-protein-ratio_100g cocoa_100g chlorophyl_100g  \\\n",
              "0                              NaN        NaN             NaN   \n",
              "1                              NaN        NaN             NaN   \n",
              "2                              NaN        NaN             NaN   \n",
              "3                              NaN        NaN             NaN   \n",
              "4                              NaN        NaN             NaN   \n",
              "\n",
              "  carbon-footprint_100g nutrition-score-fr_100g nutrition-score-uk_100g  \\\n",
              "0                   NaN                     NaN                     NaN   \n",
              "1                   NaN                    14.0                    14.0   \n",
              "2                   NaN                     0.0                     0.0   \n",
              "3                   NaN                    12.0                    12.0   \n",
              "4                   NaN                     NaN                     NaN   \n",
              "\n",
              "  glycemic-index_100g water-hardness_100g  \n",
              "0                 NaN                 NaN  \n",
              "1                 NaN                 NaN  \n",
              "2                 NaN                 NaN  \n",
              "3                 NaN                 NaN  \n",
              "4                 NaN                 NaN  \n",
              "\n",
              "[5 rows x 162 columns]"
            ],
            "text/html": [
              "\n",
              "  <div id=\"df-3dead46a-f5c1-4204-b805-feda1ec3e25b\">\n",
              "    <div class=\"colab-df-container\">\n",
              "      <div>\n",
              "<style scoped>\n",
              "    .dataframe tbody tr th:only-of-type {\n",
              "        vertical-align: middle;\n",
              "    }\n",
              "\n",
              "    .dataframe tbody tr th {\n",
              "        vertical-align: top;\n",
              "    }\n",
              "\n",
              "    .dataframe thead th {\n",
              "        text-align: right;\n",
              "    }\n",
              "</style>\n",
              "<table border=\"1\" class=\"dataframe\">\n",
              "  <thead>\n",
              "    <tr style=\"text-align: right;\">\n",
              "      <th></th>\n",
              "      <th>code</th>\n",
              "      <th>url</th>\n",
              "      <th>creator</th>\n",
              "      <th>created_t</th>\n",
              "      <th>created_datetime</th>\n",
              "      <th>last_modified_t</th>\n",
              "      <th>last_modified_datetime</th>\n",
              "      <th>product_name</th>\n",
              "      <th>generic_name</th>\n",
              "      <th>quantity</th>\n",
              "      <th>...</th>\n",
              "      <th>ph_100g</th>\n",
              "      <th>fruits-vegetables-nuts_100g</th>\n",
              "      <th>collagen-meat-protein-ratio_100g</th>\n",
              "      <th>cocoa_100g</th>\n",
              "      <th>chlorophyl_100g</th>\n",
              "      <th>carbon-footprint_100g</th>\n",
              "      <th>nutrition-score-fr_100g</th>\n",
              "      <th>nutrition-score-uk_100g</th>\n",
              "      <th>glycemic-index_100g</th>\n",
              "      <th>water-hardness_100g</th>\n",
              "    </tr>\n",
              "  </thead>\n",
              "  <tbody>\n",
              "    <tr>\n",
              "      <th>0</th>\n",
              "      <td>3087</td>\n",
              "      <td>http://world-fr.openfoodfacts.org/produit/0000...</td>\n",
              "      <td>openfoodfacts-contributors</td>\n",
              "      <td>1474103866</td>\n",
              "      <td>2016-09-17T09:17:46Z</td>\n",
              "      <td>1474103893</td>\n",
              "      <td>2016-09-17T09:18:13Z</td>\n",
              "      <td>Farine de blé noir</td>\n",
              "      <td>NaN</td>\n",
              "      <td>1kg</td>\n",
              "      <td>...</td>\n",
              "      <td>NaN</td>\n",
              "      <td>NaN</td>\n",
              "      <td>NaN</td>\n",
              "      <td>NaN</td>\n",
              "      <td>NaN</td>\n",
              "      <td>NaN</td>\n",
              "      <td>NaN</td>\n",
              "      <td>NaN</td>\n",
              "      <td>NaN</td>\n",
              "      <td>NaN</td>\n",
              "    </tr>\n",
              "    <tr>\n",
              "      <th>1</th>\n",
              "      <td>4530</td>\n",
              "      <td>http://world-fr.openfoodfacts.org/produit/0000...</td>\n",
              "      <td>usda-ndb-import</td>\n",
              "      <td>1489069957</td>\n",
              "      <td>2017-03-09T14:32:37Z</td>\n",
              "      <td>1489069957</td>\n",
              "      <td>2017-03-09T14:32:37Z</td>\n",
              "      <td>Banana Chips Sweetened (Whole)</td>\n",
              "      <td>NaN</td>\n",
              "      <td>NaN</td>\n",
              "      <td>...</td>\n",
              "      <td>NaN</td>\n",
              "      <td>NaN</td>\n",
              "      <td>NaN</td>\n",
              "      <td>NaN</td>\n",
              "      <td>NaN</td>\n",
              "      <td>NaN</td>\n",
              "      <td>14.0</td>\n",
              "      <td>14.0</td>\n",
              "      <td>NaN</td>\n",
              "      <td>NaN</td>\n",
              "    </tr>\n",
              "    <tr>\n",
              "      <th>2</th>\n",
              "      <td>4559</td>\n",
              "      <td>http://world-fr.openfoodfacts.org/produit/0000...</td>\n",
              "      <td>usda-ndb-import</td>\n",
              "      <td>1489069957</td>\n",
              "      <td>2017-03-09T14:32:37Z</td>\n",
              "      <td>1489069957</td>\n",
              "      <td>2017-03-09T14:32:37Z</td>\n",
              "      <td>Peanuts</td>\n",
              "      <td>NaN</td>\n",
              "      <td>NaN</td>\n",
              "      <td>...</td>\n",
              "      <td>NaN</td>\n",
              "      <td>NaN</td>\n",
              "      <td>NaN</td>\n",
              "      <td>NaN</td>\n",
              "      <td>NaN</td>\n",
              "      <td>NaN</td>\n",
              "      <td>0.0</td>\n",
              "      <td>0.0</td>\n",
              "      <td>NaN</td>\n",
              "      <td>NaN</td>\n",
              "    </tr>\n",
              "    <tr>\n",
              "      <th>3</th>\n",
              "      <td>16087</td>\n",
              "      <td>http://world-fr.openfoodfacts.org/produit/0000...</td>\n",
              "      <td>usda-ndb-import</td>\n",
              "      <td>1489055731</td>\n",
              "      <td>2017-03-09T10:35:31Z</td>\n",
              "      <td>1489055731</td>\n",
              "      <td>2017-03-09T10:35:31Z</td>\n",
              "      <td>Organic Salted Nut Mix</td>\n",
              "      <td>NaN</td>\n",
              "      <td>NaN</td>\n",
              "      <td>...</td>\n",
              "      <td>NaN</td>\n",
              "      <td>NaN</td>\n",
              "      <td>NaN</td>\n",
              "      <td>NaN</td>\n",
              "      <td>NaN</td>\n",
              "      <td>NaN</td>\n",
              "      <td>12.0</td>\n",
              "      <td>12.0</td>\n",
              "      <td>NaN</td>\n",
              "      <td>NaN</td>\n",
              "    </tr>\n",
              "    <tr>\n",
              "      <th>4</th>\n",
              "      <td>16094</td>\n",
              "      <td>http://world-fr.openfoodfacts.org/produit/0000...</td>\n",
              "      <td>usda-ndb-import</td>\n",
              "      <td>1489055653</td>\n",
              "      <td>2017-03-09T10:34:13Z</td>\n",
              "      <td>1489055653</td>\n",
              "      <td>2017-03-09T10:34:13Z</td>\n",
              "      <td>Organic Polenta</td>\n",
              "      <td>NaN</td>\n",
              "      <td>NaN</td>\n",
              "      <td>...</td>\n",
              "      <td>NaN</td>\n",
              "      <td>NaN</td>\n",
              "      <td>NaN</td>\n",
              "      <td>NaN</td>\n",
              "      <td>NaN</td>\n",
              "      <td>NaN</td>\n",
              "      <td>NaN</td>\n",
              "      <td>NaN</td>\n",
              "      <td>NaN</td>\n",
              "      <td>NaN</td>\n",
              "    </tr>\n",
              "  </tbody>\n",
              "</table>\n",
              "<p>5 rows × 162 columns</p>\n",
              "</div>\n",
              "      <button class=\"colab-df-convert\" onclick=\"convertToInteractive('df-3dead46a-f5c1-4204-b805-feda1ec3e25b')\"\n",
              "              title=\"Convert this dataframe to an interactive table.\"\n",
              "              style=\"display:none;\">\n",
              "        \n",
              "  <svg xmlns=\"http://www.w3.org/2000/svg\" height=\"24px\"viewBox=\"0 0 24 24\"\n",
              "       width=\"24px\">\n",
              "    <path d=\"M0 0h24v24H0V0z\" fill=\"none\"/>\n",
              "    <path d=\"M18.56 5.44l.94 2.06.94-2.06 2.06-.94-2.06-.94-.94-2.06-.94 2.06-2.06.94zm-11 1L8.5 8.5l.94-2.06 2.06-.94-2.06-.94L8.5 2.5l-.94 2.06-2.06.94zm10 10l.94 2.06.94-2.06 2.06-.94-2.06-.94-.94-2.06-.94 2.06-2.06.94z\"/><path d=\"M17.41 7.96l-1.37-1.37c-.4-.4-.92-.59-1.43-.59-.52 0-1.04.2-1.43.59L10.3 9.45l-7.72 7.72c-.78.78-.78 2.05 0 2.83L4 21.41c.39.39.9.59 1.41.59.51 0 1.02-.2 1.41-.59l7.78-7.78 2.81-2.81c.8-.78.8-2.07 0-2.86zM5.41 20L4 18.59l7.72-7.72 1.47 1.35L5.41 20z\"/>\n",
              "  </svg>\n",
              "      </button>\n",
              "      \n",
              "  <style>\n",
              "    .colab-df-container {\n",
              "      display:flex;\n",
              "      flex-wrap:wrap;\n",
              "      gap: 12px;\n",
              "    }\n",
              "\n",
              "    .colab-df-convert {\n",
              "      background-color: #E8F0FE;\n",
              "      border: none;\n",
              "      border-radius: 50%;\n",
              "      cursor: pointer;\n",
              "      display: none;\n",
              "      fill: #1967D2;\n",
              "      height: 32px;\n",
              "      padding: 0 0 0 0;\n",
              "      width: 32px;\n",
              "    }\n",
              "\n",
              "    .colab-df-convert:hover {\n",
              "      background-color: #E2EBFA;\n",
              "      box-shadow: 0px 1px 2px rgba(60, 64, 67, 0.3), 0px 1px 3px 1px rgba(60, 64, 67, 0.15);\n",
              "      fill: #174EA6;\n",
              "    }\n",
              "\n",
              "    [theme=dark] .colab-df-convert {\n",
              "      background-color: #3B4455;\n",
              "      fill: #D2E3FC;\n",
              "    }\n",
              "\n",
              "    [theme=dark] .colab-df-convert:hover {\n",
              "      background-color: #434B5C;\n",
              "      box-shadow: 0px 1px 3px 1px rgba(0, 0, 0, 0.15);\n",
              "      filter: drop-shadow(0px 1px 2px rgba(0, 0, 0, 0.3));\n",
              "      fill: #FFFFFF;\n",
              "    }\n",
              "  </style>\n",
              "\n",
              "      <script>\n",
              "        const buttonEl =\n",
              "          document.querySelector('#df-3dead46a-f5c1-4204-b805-feda1ec3e25b button.colab-df-convert');\n",
              "        buttonEl.style.display =\n",
              "          google.colab.kernel.accessAllowed ? 'block' : 'none';\n",
              "\n",
              "        async function convertToInteractive(key) {\n",
              "          const element = document.querySelector('#df-3dead46a-f5c1-4204-b805-feda1ec3e25b');\n",
              "          const dataTable =\n",
              "            await google.colab.kernel.invokeFunction('convertToInteractive',\n",
              "                                                     [key], {});\n",
              "          if (!dataTable) return;\n",
              "\n",
              "          const docLinkHtml = 'Like what you see? Visit the ' +\n",
              "            '<a target=\"_blank\" href=https://colab.research.google.com/notebooks/data_table.ipynb>data table notebook</a>'\n",
              "            + ' to learn more about interactive tables.';\n",
              "          element.innerHTML = '';\n",
              "          dataTable['output_type'] = 'display_data';\n",
              "          await google.colab.output.renderOutput(dataTable, element);\n",
              "          const docLink = document.createElement('div');\n",
              "          docLink.innerHTML = docLinkHtml;\n",
              "          element.appendChild(docLink);\n",
              "        }\n",
              "      </script>\n",
              "    </div>\n",
              "  </div>\n",
              "  "
            ]
          },
          "metadata": {},
          "execution_count": 7
        }
      ]
    },
    {
      "cell_type": "markdown",
      "source": [
        "Ici, on voit qu'on a un grand nombre de NaN sur la plupart des colonnes, on va donc devoir supprimer un grand nombre de colonne je pense. Mais avant de vouloir les supprimer, il convient de vérifier si il n'y aurait pas un moyen de récupérer certaines de ses données."
      ],
      "metadata": {
        "id": "B1le0_02afNb"
      }
    },
    {
      "cell_type": "markdown",
      "source": [
        "Etant parti sur un notebook en français, je vais du coup utiliser les colonnes fr et abandonner les colonnes uk"
      ],
      "metadata": {
        "id": "g2bBVFn30v4H"
      }
    },
    {
      "cell_type": "markdown",
      "source": [
        "### Suppression des données non pertinentes :"
      ],
      "metadata": {
        "id": "XuFePvAFa8a_"
      }
    },
    {
      "cell_type": "markdown",
      "source": [
        "En premier lieu, on va vérifier un peu notre pourcentage de NaN par colonnes et on va faire une évaluation globale. Ensuite une fois nettoyé on utilisera qu'une infime partie de notre dataset, car un bon nombre de ses données de nous interesse pas."
      ],
      "metadata": {
        "id": "9kmkovOTbE2z"
      }
    },
    {
      "cell_type": "markdown",
      "source": [
        "On va déterminer en utilisant les pourcentage de valeurs manquantes un certain montant.."
      ],
      "metadata": {
        "id": "p1vJds24miYC"
      }
    },
    {
      "cell_type": "code",
      "source": [
        "visualize_missing_columns(df)"
      ],
      "metadata": {
        "colab": {
          "base_uri": "https://localhost:8080/",
          "height": 436
        },
        "id": "YjbRWSqOa7Nf",
        "outputId": "3b604172-44a2-4ebf-9602-bb2392e513aa"
      },
      "execution_count": 8,
      "outputs": [
        {
          "name": "stdout",
          "output_type": "stream",
          "text": [
            "Entrez le seuil de pourcentage de valeurs manquantes pour la visualisation : 70\n"
          ]
        },
        {
          "output_type": "display_data",
          "data": {
            "text/plain": [
              "                                   Colonne  Pourcentage_manquants  \\\n",
              "0                      water-hardness_100g                    100   \n",
              "1                            no_nutriments                    100   \n",
              "2                        elaidic-acid_100g                    100   \n",
              "3    ingredients_that_may_be_from_palm_oil                    100   \n",
              "4                       nutrition_grade_uk                    100   \n",
              "..                                     ...                    ...   \n",
              "114                        categories_tags                     73   \n",
              "115                             categories                     73   \n",
              "116                          categories_fr                     73   \n",
              "117                          pnns_groups_1                     71   \n",
              "118                          pnns_groups_2                     70   \n",
              "\n",
              "     Valeurs_manquantes  \n",
              "0                320772  \n",
              "1                320772  \n",
              "2                320772  \n",
              "3                320772  \n",
              "4                320772  \n",
              "..                  ...  \n",
              "114              236383  \n",
              "115              236362  \n",
              "116              236361  \n",
              "117              229259  \n",
              "118              226281  \n",
              "\n",
              "[119 rows x 3 columns]"
            ],
            "text/html": [
              "\n",
              "  <div id=\"df-282f9f0b-9587-4e3c-b349-546e5d66978a\">\n",
              "    <div class=\"colab-df-container\">\n",
              "      <div>\n",
              "<style scoped>\n",
              "    .dataframe tbody tr th:only-of-type {\n",
              "        vertical-align: middle;\n",
              "    }\n",
              "\n",
              "    .dataframe tbody tr th {\n",
              "        vertical-align: top;\n",
              "    }\n",
              "\n",
              "    .dataframe thead th {\n",
              "        text-align: right;\n",
              "    }\n",
              "</style>\n",
              "<table border=\"1\" class=\"dataframe\">\n",
              "  <thead>\n",
              "    <tr style=\"text-align: right;\">\n",
              "      <th></th>\n",
              "      <th>Colonne</th>\n",
              "      <th>Pourcentage_manquants</th>\n",
              "      <th>Valeurs_manquantes</th>\n",
              "    </tr>\n",
              "  </thead>\n",
              "  <tbody>\n",
              "    <tr>\n",
              "      <th>0</th>\n",
              "      <td>water-hardness_100g</td>\n",
              "      <td>100</td>\n",
              "      <td>320772</td>\n",
              "    </tr>\n",
              "    <tr>\n",
              "      <th>1</th>\n",
              "      <td>no_nutriments</td>\n",
              "      <td>100</td>\n",
              "      <td>320772</td>\n",
              "    </tr>\n",
              "    <tr>\n",
              "      <th>2</th>\n",
              "      <td>elaidic-acid_100g</td>\n",
              "      <td>100</td>\n",
              "      <td>320772</td>\n",
              "    </tr>\n",
              "    <tr>\n",
              "      <th>3</th>\n",
              "      <td>ingredients_that_may_be_from_palm_oil</td>\n",
              "      <td>100</td>\n",
              "      <td>320772</td>\n",
              "    </tr>\n",
              "    <tr>\n",
              "      <th>4</th>\n",
              "      <td>nutrition_grade_uk</td>\n",
              "      <td>100</td>\n",
              "      <td>320772</td>\n",
              "    </tr>\n",
              "    <tr>\n",
              "      <th>...</th>\n",
              "      <td>...</td>\n",
              "      <td>...</td>\n",
              "      <td>...</td>\n",
              "    </tr>\n",
              "    <tr>\n",
              "      <th>114</th>\n",
              "      <td>categories_tags</td>\n",
              "      <td>73</td>\n",
              "      <td>236383</td>\n",
              "    </tr>\n",
              "    <tr>\n",
              "      <th>115</th>\n",
              "      <td>categories</td>\n",
              "      <td>73</td>\n",
              "      <td>236362</td>\n",
              "    </tr>\n",
              "    <tr>\n",
              "      <th>116</th>\n",
              "      <td>categories_fr</td>\n",
              "      <td>73</td>\n",
              "      <td>236361</td>\n",
              "    </tr>\n",
              "    <tr>\n",
              "      <th>117</th>\n",
              "      <td>pnns_groups_1</td>\n",
              "      <td>71</td>\n",
              "      <td>229259</td>\n",
              "    </tr>\n",
              "    <tr>\n",
              "      <th>118</th>\n",
              "      <td>pnns_groups_2</td>\n",
              "      <td>70</td>\n",
              "      <td>226281</td>\n",
              "    </tr>\n",
              "  </tbody>\n",
              "</table>\n",
              "<p>119 rows × 3 columns</p>\n",
              "</div>\n",
              "      <button class=\"colab-df-convert\" onclick=\"convertToInteractive('df-282f9f0b-9587-4e3c-b349-546e5d66978a')\"\n",
              "              title=\"Convert this dataframe to an interactive table.\"\n",
              "              style=\"display:none;\">\n",
              "        \n",
              "  <svg xmlns=\"http://www.w3.org/2000/svg\" height=\"24px\"viewBox=\"0 0 24 24\"\n",
              "       width=\"24px\">\n",
              "    <path d=\"M0 0h24v24H0V0z\" fill=\"none\"/>\n",
              "    <path d=\"M18.56 5.44l.94 2.06.94-2.06 2.06-.94-2.06-.94-.94-2.06-.94 2.06-2.06.94zm-11 1L8.5 8.5l.94-2.06 2.06-.94-2.06-.94L8.5 2.5l-.94 2.06-2.06.94zm10 10l.94 2.06.94-2.06 2.06-.94-2.06-.94-.94-2.06-.94 2.06-2.06.94z\"/><path d=\"M17.41 7.96l-1.37-1.37c-.4-.4-.92-.59-1.43-.59-.52 0-1.04.2-1.43.59L10.3 9.45l-7.72 7.72c-.78.78-.78 2.05 0 2.83L4 21.41c.39.39.9.59 1.41.59.51 0 1.02-.2 1.41-.59l7.78-7.78 2.81-2.81c.8-.78.8-2.07 0-2.86zM5.41 20L4 18.59l7.72-7.72 1.47 1.35L5.41 20z\"/>\n",
              "  </svg>\n",
              "      </button>\n",
              "      \n",
              "  <style>\n",
              "    .colab-df-container {\n",
              "      display:flex;\n",
              "      flex-wrap:wrap;\n",
              "      gap: 12px;\n",
              "    }\n",
              "\n",
              "    .colab-df-convert {\n",
              "      background-color: #E8F0FE;\n",
              "      border: none;\n",
              "      border-radius: 50%;\n",
              "      cursor: pointer;\n",
              "      display: none;\n",
              "      fill: #1967D2;\n",
              "      height: 32px;\n",
              "      padding: 0 0 0 0;\n",
              "      width: 32px;\n",
              "    }\n",
              "\n",
              "    .colab-df-convert:hover {\n",
              "      background-color: #E2EBFA;\n",
              "      box-shadow: 0px 1px 2px rgba(60, 64, 67, 0.3), 0px 1px 3px 1px rgba(60, 64, 67, 0.15);\n",
              "      fill: #174EA6;\n",
              "    }\n",
              "\n",
              "    [theme=dark] .colab-df-convert {\n",
              "      background-color: #3B4455;\n",
              "      fill: #D2E3FC;\n",
              "    }\n",
              "\n",
              "    [theme=dark] .colab-df-convert:hover {\n",
              "      background-color: #434B5C;\n",
              "      box-shadow: 0px 1px 3px 1px rgba(0, 0, 0, 0.15);\n",
              "      filter: drop-shadow(0px 1px 2px rgba(0, 0, 0, 0.3));\n",
              "      fill: #FFFFFF;\n",
              "    }\n",
              "  </style>\n",
              "\n",
              "      <script>\n",
              "        const buttonEl =\n",
              "          document.querySelector('#df-282f9f0b-9587-4e3c-b349-546e5d66978a button.colab-df-convert');\n",
              "        buttonEl.style.display =\n",
              "          google.colab.kernel.accessAllowed ? 'block' : 'none';\n",
              "\n",
              "        async function convertToInteractive(key) {\n",
              "          const element = document.querySelector('#df-282f9f0b-9587-4e3c-b349-546e5d66978a');\n",
              "          const dataTable =\n",
              "            await google.colab.kernel.invokeFunction('convertToInteractive',\n",
              "                                                     [key], {});\n",
              "          if (!dataTable) return;\n",
              "\n",
              "          const docLinkHtml = 'Like what you see? Visit the ' +\n",
              "            '<a target=\"_blank\" href=https://colab.research.google.com/notebooks/data_table.ipynb>data table notebook</a>'\n",
              "            + ' to learn more about interactive tables.';\n",
              "          element.innerHTML = '';\n",
              "          dataTable['output_type'] = 'display_data';\n",
              "          await google.colab.output.renderOutput(dataTable, element);\n",
              "          const docLink = document.createElement('div');\n",
              "          docLink.innerHTML = docLinkHtml;\n",
              "          element.appendChild(docLink);\n",
              "        }\n",
              "      </script>\n",
              "    </div>\n",
              "  </div>\n",
              "  "
            ]
          },
          "metadata": {}
        }
      ]
    },
    {
      "cell_type": "markdown",
      "source": [
        "On voit déjà ici que ces colonnes n'ont aucun interet nous n'avons aucune donnée."
      ],
      "metadata": {
        "id": "XAZx004R035E"
      }
    },
    {
      "cell_type": "code",
      "source": [
        "df.columns.tolist()"
      ],
      "metadata": {
        "colab": {
          "base_uri": "https://localhost:8080/"
        },
        "id": "Co8m1UD7bDcl",
        "outputId": "24e33744-cf50-46af-d087-b52e97bbb5ab"
      },
      "execution_count": 9,
      "outputs": [
        {
          "output_type": "execute_result",
          "data": {
            "text/plain": [
              "['code',\n",
              " 'url',\n",
              " 'creator',\n",
              " 'created_t',\n",
              " 'created_datetime',\n",
              " 'last_modified_t',\n",
              " 'last_modified_datetime',\n",
              " 'product_name',\n",
              " 'generic_name',\n",
              " 'quantity',\n",
              " 'packaging',\n",
              " 'packaging_tags',\n",
              " 'brands',\n",
              " 'brands_tags',\n",
              " 'categories',\n",
              " 'categories_tags',\n",
              " 'categories_fr',\n",
              " 'origins',\n",
              " 'origins_tags',\n",
              " 'manufacturing_places',\n",
              " 'manufacturing_places_tags',\n",
              " 'labels',\n",
              " 'labels_tags',\n",
              " 'labels_fr',\n",
              " 'emb_codes',\n",
              " 'emb_codes_tags',\n",
              " 'first_packaging_code_geo',\n",
              " 'cities',\n",
              " 'cities_tags',\n",
              " 'purchase_places',\n",
              " 'stores',\n",
              " 'countries',\n",
              " 'countries_tags',\n",
              " 'countries_fr',\n",
              " 'ingredients_text',\n",
              " 'allergens',\n",
              " 'allergens_fr',\n",
              " 'traces',\n",
              " 'traces_tags',\n",
              " 'traces_fr',\n",
              " 'serving_size',\n",
              " 'no_nutriments',\n",
              " 'additives_n',\n",
              " 'additives',\n",
              " 'additives_tags',\n",
              " 'additives_fr',\n",
              " 'ingredients_from_palm_oil_n',\n",
              " 'ingredients_from_palm_oil',\n",
              " 'ingredients_from_palm_oil_tags',\n",
              " 'ingredients_that_may_be_from_palm_oil_n',\n",
              " 'ingredients_that_may_be_from_palm_oil',\n",
              " 'ingredients_that_may_be_from_palm_oil_tags',\n",
              " 'nutrition_grade_uk',\n",
              " 'nutrition_grade_fr',\n",
              " 'pnns_groups_1',\n",
              " 'pnns_groups_2',\n",
              " 'states',\n",
              " 'states_tags',\n",
              " 'states_fr',\n",
              " 'main_category',\n",
              " 'main_category_fr',\n",
              " 'image_url',\n",
              " 'image_small_url',\n",
              " 'energy_100g',\n",
              " 'energy-from-fat_100g',\n",
              " 'fat_100g',\n",
              " 'saturated-fat_100g',\n",
              " 'butyric-acid_100g',\n",
              " 'caproic-acid_100g',\n",
              " 'caprylic-acid_100g',\n",
              " 'capric-acid_100g',\n",
              " 'lauric-acid_100g',\n",
              " 'myristic-acid_100g',\n",
              " 'palmitic-acid_100g',\n",
              " 'stearic-acid_100g',\n",
              " 'arachidic-acid_100g',\n",
              " 'behenic-acid_100g',\n",
              " 'lignoceric-acid_100g',\n",
              " 'cerotic-acid_100g',\n",
              " 'montanic-acid_100g',\n",
              " 'melissic-acid_100g',\n",
              " 'monounsaturated-fat_100g',\n",
              " 'polyunsaturated-fat_100g',\n",
              " 'omega-3-fat_100g',\n",
              " 'alpha-linolenic-acid_100g',\n",
              " 'eicosapentaenoic-acid_100g',\n",
              " 'docosahexaenoic-acid_100g',\n",
              " 'omega-6-fat_100g',\n",
              " 'linoleic-acid_100g',\n",
              " 'arachidonic-acid_100g',\n",
              " 'gamma-linolenic-acid_100g',\n",
              " 'dihomo-gamma-linolenic-acid_100g',\n",
              " 'omega-9-fat_100g',\n",
              " 'oleic-acid_100g',\n",
              " 'elaidic-acid_100g',\n",
              " 'gondoic-acid_100g',\n",
              " 'mead-acid_100g',\n",
              " 'erucic-acid_100g',\n",
              " 'nervonic-acid_100g',\n",
              " 'trans-fat_100g',\n",
              " 'cholesterol_100g',\n",
              " 'carbohydrates_100g',\n",
              " 'sugars_100g',\n",
              " 'sucrose_100g',\n",
              " 'glucose_100g',\n",
              " 'fructose_100g',\n",
              " 'lactose_100g',\n",
              " 'maltose_100g',\n",
              " 'maltodextrins_100g',\n",
              " 'starch_100g',\n",
              " 'polyols_100g',\n",
              " 'fiber_100g',\n",
              " 'proteins_100g',\n",
              " 'casein_100g',\n",
              " 'serum-proteins_100g',\n",
              " 'nucleotides_100g',\n",
              " 'salt_100g',\n",
              " 'sodium_100g',\n",
              " 'alcohol_100g',\n",
              " 'vitamin-a_100g',\n",
              " 'beta-carotene_100g',\n",
              " 'vitamin-d_100g',\n",
              " 'vitamin-e_100g',\n",
              " 'vitamin-k_100g',\n",
              " 'vitamin-c_100g',\n",
              " 'vitamin-b1_100g',\n",
              " 'vitamin-b2_100g',\n",
              " 'vitamin-pp_100g',\n",
              " 'vitamin-b6_100g',\n",
              " 'vitamin-b9_100g',\n",
              " 'folates_100g',\n",
              " 'vitamin-b12_100g',\n",
              " 'biotin_100g',\n",
              " 'pantothenic-acid_100g',\n",
              " 'silica_100g',\n",
              " 'bicarbonate_100g',\n",
              " 'potassium_100g',\n",
              " 'chloride_100g',\n",
              " 'calcium_100g',\n",
              " 'phosphorus_100g',\n",
              " 'iron_100g',\n",
              " 'magnesium_100g',\n",
              " 'zinc_100g',\n",
              " 'copper_100g',\n",
              " 'manganese_100g',\n",
              " 'fluoride_100g',\n",
              " 'selenium_100g',\n",
              " 'chromium_100g',\n",
              " 'molybdenum_100g',\n",
              " 'iodine_100g',\n",
              " 'caffeine_100g',\n",
              " 'taurine_100g',\n",
              " 'ph_100g',\n",
              " 'fruits-vegetables-nuts_100g',\n",
              " 'collagen-meat-protein-ratio_100g',\n",
              " 'cocoa_100g',\n",
              " 'chlorophyl_100g',\n",
              " 'carbon-footprint_100g',\n",
              " 'nutrition-score-fr_100g',\n",
              " 'nutrition-score-uk_100g',\n",
              " 'glycemic-index_100g',\n",
              " 'water-hardness_100g']"
            ]
          },
          "metadata": {},
          "execution_count": 9
        }
      ]
    },
    {
      "cell_type": "code",
      "source": [
        "df = df[['product_name','brands','categories_fr','origins','labels_fr','allergens_fr','ingredients_text','additives_fr',\n",
        "         'nutrition_grade_fr','main_category_fr','image_url','energy_100g', \n",
        "         'fat_100g','saturated-fat_100g','trans-fat_100g','sugars_100g','fiber_100g','proteins_100g','sodium_100g','alcohol_100g',\n",
        "         'nutrition-score-fr_100g']]"
      ],
      "metadata": {
        "id": "WWUHTSmo0-Bk"
      },
      "execution_count": 10,
      "outputs": []
    },
    {
      "cell_type": "markdown",
      "source": [],
      "metadata": {
        "id": "CUuTR0q_4yXY"
      }
    },
    {
      "cell_type": "code",
      "source": [
        "visualize_missing_columns(df)"
      ],
      "metadata": {
        "colab": {
          "base_uri": "https://localhost:8080/",
          "height": 717
        },
        "id": "34lZbHXzbDe9",
        "outputId": "031f7a35-c813-4910-d1cd-fbf47a8f69d8"
      },
      "execution_count": 11,
      "outputs": [
        {
          "name": "stdout",
          "output_type": "stream",
          "text": [
            "Entrez le seuil de pourcentage de valeurs manquantes pour la visualisation : 0\n"
          ]
        },
        {
          "output_type": "display_data",
          "data": {
            "text/plain": [
              "                    Colonne  Pourcentage_manquants  Valeurs_manquantes\n",
              "0              allergens_fr                     99              320753\n",
              "1              alcohol_100g                     98              316639\n",
              "2                   origins                     93              298582\n",
              "3                 labels_fr                     85              274106\n",
              "4                 image_url                     76              244936\n",
              "5          main_category_fr                     73              236406\n",
              "6             categories_fr                     73              236361\n",
              "7            trans-fat_100g                     55              177474\n",
              "8              additives_fr                     51              166092\n",
              "9                fiber_100g                     37              119886\n",
              "10  nutrition-score-fr_100g                     31               99562\n",
              "11       nutrition_grade_fr                     31               99562\n",
              "12       saturated-fat_100g                     28               91218\n",
              "13                 fat_100g                     23               76881\n",
              "14              sugars_100g                     23               75801\n",
              "15         ingredients_text                     22               71810\n",
              "16              sodium_100g                     20               65309\n",
              "17            proteins_100g                     18               60850\n",
              "18              energy_100g                     18               59659\n",
              "19                   brands                      8               28412\n",
              "20             product_name                      5               17762"
            ],
            "text/html": [
              "\n",
              "  <div id=\"df-3650a467-d699-4f18-97f5-071e3b18e1ac\">\n",
              "    <div class=\"colab-df-container\">\n",
              "      <div>\n",
              "<style scoped>\n",
              "    .dataframe tbody tr th:only-of-type {\n",
              "        vertical-align: middle;\n",
              "    }\n",
              "\n",
              "    .dataframe tbody tr th {\n",
              "        vertical-align: top;\n",
              "    }\n",
              "\n",
              "    .dataframe thead th {\n",
              "        text-align: right;\n",
              "    }\n",
              "</style>\n",
              "<table border=\"1\" class=\"dataframe\">\n",
              "  <thead>\n",
              "    <tr style=\"text-align: right;\">\n",
              "      <th></th>\n",
              "      <th>Colonne</th>\n",
              "      <th>Pourcentage_manquants</th>\n",
              "      <th>Valeurs_manquantes</th>\n",
              "    </tr>\n",
              "  </thead>\n",
              "  <tbody>\n",
              "    <tr>\n",
              "      <th>0</th>\n",
              "      <td>allergens_fr</td>\n",
              "      <td>99</td>\n",
              "      <td>320753</td>\n",
              "    </tr>\n",
              "    <tr>\n",
              "      <th>1</th>\n",
              "      <td>alcohol_100g</td>\n",
              "      <td>98</td>\n",
              "      <td>316639</td>\n",
              "    </tr>\n",
              "    <tr>\n",
              "      <th>2</th>\n",
              "      <td>origins</td>\n",
              "      <td>93</td>\n",
              "      <td>298582</td>\n",
              "    </tr>\n",
              "    <tr>\n",
              "      <th>3</th>\n",
              "      <td>labels_fr</td>\n",
              "      <td>85</td>\n",
              "      <td>274106</td>\n",
              "    </tr>\n",
              "    <tr>\n",
              "      <th>4</th>\n",
              "      <td>image_url</td>\n",
              "      <td>76</td>\n",
              "      <td>244936</td>\n",
              "    </tr>\n",
              "    <tr>\n",
              "      <th>5</th>\n",
              "      <td>main_category_fr</td>\n",
              "      <td>73</td>\n",
              "      <td>236406</td>\n",
              "    </tr>\n",
              "    <tr>\n",
              "      <th>6</th>\n",
              "      <td>categories_fr</td>\n",
              "      <td>73</td>\n",
              "      <td>236361</td>\n",
              "    </tr>\n",
              "    <tr>\n",
              "      <th>7</th>\n",
              "      <td>trans-fat_100g</td>\n",
              "      <td>55</td>\n",
              "      <td>177474</td>\n",
              "    </tr>\n",
              "    <tr>\n",
              "      <th>8</th>\n",
              "      <td>additives_fr</td>\n",
              "      <td>51</td>\n",
              "      <td>166092</td>\n",
              "    </tr>\n",
              "    <tr>\n",
              "      <th>9</th>\n",
              "      <td>fiber_100g</td>\n",
              "      <td>37</td>\n",
              "      <td>119886</td>\n",
              "    </tr>\n",
              "    <tr>\n",
              "      <th>10</th>\n",
              "      <td>nutrition-score-fr_100g</td>\n",
              "      <td>31</td>\n",
              "      <td>99562</td>\n",
              "    </tr>\n",
              "    <tr>\n",
              "      <th>11</th>\n",
              "      <td>nutrition_grade_fr</td>\n",
              "      <td>31</td>\n",
              "      <td>99562</td>\n",
              "    </tr>\n",
              "    <tr>\n",
              "      <th>12</th>\n",
              "      <td>saturated-fat_100g</td>\n",
              "      <td>28</td>\n",
              "      <td>91218</td>\n",
              "    </tr>\n",
              "    <tr>\n",
              "      <th>13</th>\n",
              "      <td>fat_100g</td>\n",
              "      <td>23</td>\n",
              "      <td>76881</td>\n",
              "    </tr>\n",
              "    <tr>\n",
              "      <th>14</th>\n",
              "      <td>sugars_100g</td>\n",
              "      <td>23</td>\n",
              "      <td>75801</td>\n",
              "    </tr>\n",
              "    <tr>\n",
              "      <th>15</th>\n",
              "      <td>ingredients_text</td>\n",
              "      <td>22</td>\n",
              "      <td>71810</td>\n",
              "    </tr>\n",
              "    <tr>\n",
              "      <th>16</th>\n",
              "      <td>sodium_100g</td>\n",
              "      <td>20</td>\n",
              "      <td>65309</td>\n",
              "    </tr>\n",
              "    <tr>\n",
              "      <th>17</th>\n",
              "      <td>proteins_100g</td>\n",
              "      <td>18</td>\n",
              "      <td>60850</td>\n",
              "    </tr>\n",
              "    <tr>\n",
              "      <th>18</th>\n",
              "      <td>energy_100g</td>\n",
              "      <td>18</td>\n",
              "      <td>59659</td>\n",
              "    </tr>\n",
              "    <tr>\n",
              "      <th>19</th>\n",
              "      <td>brands</td>\n",
              "      <td>8</td>\n",
              "      <td>28412</td>\n",
              "    </tr>\n",
              "    <tr>\n",
              "      <th>20</th>\n",
              "      <td>product_name</td>\n",
              "      <td>5</td>\n",
              "      <td>17762</td>\n",
              "    </tr>\n",
              "  </tbody>\n",
              "</table>\n",
              "</div>\n",
              "      <button class=\"colab-df-convert\" onclick=\"convertToInteractive('df-3650a467-d699-4f18-97f5-071e3b18e1ac')\"\n",
              "              title=\"Convert this dataframe to an interactive table.\"\n",
              "              style=\"display:none;\">\n",
              "        \n",
              "  <svg xmlns=\"http://www.w3.org/2000/svg\" height=\"24px\"viewBox=\"0 0 24 24\"\n",
              "       width=\"24px\">\n",
              "    <path d=\"M0 0h24v24H0V0z\" fill=\"none\"/>\n",
              "    <path d=\"M18.56 5.44l.94 2.06.94-2.06 2.06-.94-2.06-.94-.94-2.06-.94 2.06-2.06.94zm-11 1L8.5 8.5l.94-2.06 2.06-.94-2.06-.94L8.5 2.5l-.94 2.06-2.06.94zm10 10l.94 2.06.94-2.06 2.06-.94-2.06-.94-.94-2.06-.94 2.06-2.06.94z\"/><path d=\"M17.41 7.96l-1.37-1.37c-.4-.4-.92-.59-1.43-.59-.52 0-1.04.2-1.43.59L10.3 9.45l-7.72 7.72c-.78.78-.78 2.05 0 2.83L4 21.41c.39.39.9.59 1.41.59.51 0 1.02-.2 1.41-.59l7.78-7.78 2.81-2.81c.8-.78.8-2.07 0-2.86zM5.41 20L4 18.59l7.72-7.72 1.47 1.35L5.41 20z\"/>\n",
              "  </svg>\n",
              "      </button>\n",
              "      \n",
              "  <style>\n",
              "    .colab-df-container {\n",
              "      display:flex;\n",
              "      flex-wrap:wrap;\n",
              "      gap: 12px;\n",
              "    }\n",
              "\n",
              "    .colab-df-convert {\n",
              "      background-color: #E8F0FE;\n",
              "      border: none;\n",
              "      border-radius: 50%;\n",
              "      cursor: pointer;\n",
              "      display: none;\n",
              "      fill: #1967D2;\n",
              "      height: 32px;\n",
              "      padding: 0 0 0 0;\n",
              "      width: 32px;\n",
              "    }\n",
              "\n",
              "    .colab-df-convert:hover {\n",
              "      background-color: #E2EBFA;\n",
              "      box-shadow: 0px 1px 2px rgba(60, 64, 67, 0.3), 0px 1px 3px 1px rgba(60, 64, 67, 0.15);\n",
              "      fill: #174EA6;\n",
              "    }\n",
              "\n",
              "    [theme=dark] .colab-df-convert {\n",
              "      background-color: #3B4455;\n",
              "      fill: #D2E3FC;\n",
              "    }\n",
              "\n",
              "    [theme=dark] .colab-df-convert:hover {\n",
              "      background-color: #434B5C;\n",
              "      box-shadow: 0px 1px 3px 1px rgba(0, 0, 0, 0.15);\n",
              "      filter: drop-shadow(0px 1px 2px rgba(0, 0, 0, 0.3));\n",
              "      fill: #FFFFFF;\n",
              "    }\n",
              "  </style>\n",
              "\n",
              "      <script>\n",
              "        const buttonEl =\n",
              "          document.querySelector('#df-3650a467-d699-4f18-97f5-071e3b18e1ac button.colab-df-convert');\n",
              "        buttonEl.style.display =\n",
              "          google.colab.kernel.accessAllowed ? 'block' : 'none';\n",
              "\n",
              "        async function convertToInteractive(key) {\n",
              "          const element = document.querySelector('#df-3650a467-d699-4f18-97f5-071e3b18e1ac');\n",
              "          const dataTable =\n",
              "            await google.colab.kernel.invokeFunction('convertToInteractive',\n",
              "                                                     [key], {});\n",
              "          if (!dataTable) return;\n",
              "\n",
              "          const docLinkHtml = 'Like what you see? Visit the ' +\n",
              "            '<a target=\"_blank\" href=https://colab.research.google.com/notebooks/data_table.ipynb>data table notebook</a>'\n",
              "            + ' to learn more about interactive tables.';\n",
              "          element.innerHTML = '';\n",
              "          dataTable['output_type'] = 'display_data';\n",
              "          await google.colab.output.renderOutput(dataTable, element);\n",
              "          const docLink = document.createElement('div');\n",
              "          docLink.innerHTML = docLinkHtml;\n",
              "          element.appendChild(docLink);\n",
              "        }\n",
              "      </script>\n",
              "    </div>\n",
              "  </div>\n",
              "  "
            ]
          },
          "metadata": {}
        }
      ]
    },
    {
      "cell_type": "code",
      "source": [
        "def visualize_missing_data(data: pd.DataFrame):\n",
        "    \"\"\"\n",
        "    Affiche un aperçu des valeurs manquantes dans un DataFrame, y compris un graphique.\n",
        "\n",
        "    Parameters:\n",
        "    ----------\n",
        "    data : pd.DataFrame\n",
        "        Le DataFrame contenant les données.\n",
        "\n",
        "    \"\"\"\n",
        "    total_missing = data.isnull().sum().sort_values(ascending=False)\n",
        "    percent_missing = (total_missing / data.shape[0])\n",
        "\n",
        "    missing_data = pd.DataFrame({\n",
        "        'Total manquant': total_missing,\n",
        "        'Pourcentage manquant': percent_missing.round(2)*100\n",
        "    })\n",
        "    \n",
        "    fig, ax = plt.subplots(figsize=(10, 6))\n",
        "    sns.barplot(x='Pourcentage manquant', y=missing_data.index, data=missing_data, ax=ax)\n",
        "    ax.set(xlabel='Pourcentage manquant', ylabel='Variables', title='Aperçu des valeurs manquantes')\n",
        "    plt.show()\n",
        "\n",
        "    print('-' * 100)\n",
        "    print(\" \" * 41, '\\033[1m' + \"Données manquantes :\" + '\\033[0m')\n",
        "    print('-' * 100)\n",
        "\n",
        "    print(missing_data)\n",
        "\n",
        "    print('-' * 100)\n",
        "    print(\" \" * 25, '\\033[1m' + f\"Le pourcentage de données manquantes est de {((percent_missing.sum()/percent_missing.count()).round(2))*100}%\" + '\\033[0m')\n"
      ],
      "metadata": {
        "id": "nADb7Z2qX25F"
      },
      "execution_count": 12,
      "outputs": []
    },
    {
      "cell_type": "code",
      "source": [
        "visualize_missing_data(df)"
      ],
      "metadata": {
        "colab": {
          "base_uri": "https://localhost:8080/",
          "height": 1000
        },
        "id": "N0KHwcMSYspp",
        "outputId": "2802de49-e4a2-4c40-8893-3f49a8abb667"
      },
      "execution_count": 13,
      "outputs": [
        {
          "output_type": "display_data",
          "data": {
            "text/plain": [
              "<Figure size 1000x600 with 1 Axes>"
            ],
            "image/png": "[encoded data removed]"
          },
          "metadata": {}
        },
        {
          "output_type": "stream",
          "name": "stdout",
          "text": [
            "----------------------------------------------------------------------------------------------------\n",
            "                                          \u001b[1mDonnées manquantes :\u001b[0m\n",
            "----------------------------------------------------------------------------------------------------\n",
            "                         Total manquant  Pourcentage manquant\n",
            "allergens_fr                     320753                 100.0\n",
            "alcohol_100g                     316639                  99.0\n",
            "origins                          298582                  93.0\n",
            "labels_fr                        274106                  85.0\n",
            "image_url                        244936                  76.0\n",
            "main_category_fr                 236406                  74.0\n",
            "categories_fr                    236361                  74.0\n",
            "trans-fat_100g                   177474                  55.0\n",
            "additives_fr                     166092                  52.0\n",
            "fiber_100g                       119886                  37.0\n",
            "nutrition-score-fr_100g           99562                  31.0\n",
            "nutrition_grade_fr                99562                  31.0\n",
            "saturated-fat_100g                91218                  28.0\n",
            "fat_100g                          76881                  24.0\n",
            "sugars_100g                       75801                  24.0\n",
            "ingredients_text                  71810                  22.0\n",
            "sodium_100g                       65309                  20.0\n",
            "proteins_100g                     60850                  19.0\n",
            "energy_100g                       59659                  19.0\n",
            "brands                            28412                   9.0\n",
            "product_name                      17762                   6.0\n",
            "----------------------------------------------------------------------------------------------------\n",
            "                          \u001b[1mLe pourcentage de données manquantes est de 47.0%\u001b[0m\n"
          ]
        }
      ]
    },
    {
      "cell_type": "markdown",
      "source": [
        "#### Modification de la colonne fiber_100g"
      ],
      "metadata": {
        "id": "R7ZceBkZ8phA"
      }
    },
    {
      "cell_type": "markdown",
      "source": [
        "On peut considérer que si la colonne fiber_100g n'a pas de données, c'est que le produit ne posséde pas de fibres."
      ],
      "metadata": {
        "id": "hNTjuYlf8sf7"
      }
    },
    {
      "cell_type": "code",
      "source": [
        "df['fiber_100g'] = df['fiber_100g'].fillna(0) # On remplace chaque NaN par un 0."
      ],
      "metadata": {
        "id": "bIlGKPb58psR"
      },
      "execution_count": 14,
      "outputs": []
    },
    {
      "cell_type": "code",
      "source": [],
      "metadata": {
        "id": "iSSET1xD-TbD"
      },
      "execution_count": 14,
      "outputs": []
    },
    {
      "cell_type": "code",
      "source": [
        "filtrer_colonne_sans_nan(df, 'allergens_fr')"
      ],
      "metadata": {
        "colab": {
          "base_uri": "https://localhost:8080/",
          "height": 706
        },
        "id": "Xq-Zvv8J-VUZ",
        "outputId": "7fea1d77-90ca-4c43-ca69-64585e0b4573"
      },
      "execution_count": 15,
      "outputs": [
        {
          "output_type": "stream",
          "name": "stdout",
          "text": [
            "Le nombre de lignes avant filtrage est de 320772\n",
            "Le nombre de lignes après filtrage est de 19\n",
            "Le pourcentage de lignes supprimées après filtrage est de 99.99408%\n",
            "\n"
          ]
        },
        {
          "output_type": "execute_result",
          "data": {
            "text/plain": [
              "                                             allergens_fr\n",
              "189068  http://fr.openfoodfacts.org/images/products/30...\n",
              "189103  http://fr.openfoodfacts.org/images/products/30...\n",
              "189109  http://fr.openfoodfacts.org/images/products/30...\n",
              "189119  http://fr.openfoodfacts.org/images/products/30...\n",
              "189152  http://fr.openfoodfacts.org/images/products/30...\n",
              "189160  http://fr.openfoodfacts.org/images/products/30...\n",
              "189162  http://fr.openfoodfacts.org/images/products/30...\n",
              "189168  http://fr.openfoodfacts.org/images/products/30...\n",
              "189242  http://fr.openfoodfacts.org/images/products/30...\n",
              "189244  http://fr.openfoodfacts.org/images/products/30...\n",
              "189250  http://fr.openfoodfacts.org/images/products/30...\n",
              "189260  http://fr.openfoodfacts.org/images/products/30...\n",
              "189262  http://fr.openfoodfacts.org/images/products/30...\n",
              "189269  http://fr.openfoodfacts.org/images/products/30...\n",
              "189272  http://fr.openfoodfacts.org/images/products/30...\n",
              "189345  http://fr.openfoodfacts.org/images/products/30...\n",
              "189404  http://fr.openfoodfacts.org/images/products/30...\n",
              "189406  http://fr.openfoodfacts.org/images/products/30...\n",
              "189417  http://fr.openfoodfacts.org/images/products/30..."
            ],
            "text/html": [
              "\n",
              "  <div id=\"df-dc5f9ab6-c99c-473f-b02b-1f50e385e14d\">\n",
              "    <div class=\"colab-df-container\">\n",
              "      <div>\n",
              "<style scoped>\n",
              "    .dataframe tbody tr th:only-of-type {\n",
              "        vertical-align: middle;\n",
              "    }\n",
              "\n",
              "    .dataframe tbody tr th {\n",
              "        vertical-align: top;\n",
              "    }\n",
              "\n",
              "    .dataframe thead th {\n",
              "        text-align: right;\n",
              "    }\n",
              "</style>\n",
              "<table border=\"1\" class=\"dataframe\">\n",
              "  <thead>\n",
              "    <tr style=\"text-align: right;\">\n",
              "      <th></th>\n",
              "      <th>allergens_fr</th>\n",
              "    </tr>\n",
              "  </thead>\n",
              "  <tbody>\n",
              "    <tr>\n",
              "      <th>189068</th>\n",
              "      <td>http://fr.openfoodfacts.org/images/products/30...</td>\n",
              "    </tr>\n",
              "    <tr>\n",
              "      <th>189103</th>\n",
              "      <td>http://fr.openfoodfacts.org/images/products/30...</td>\n",
              "    </tr>\n",
              "    <tr>\n",
              "      <th>189109</th>\n",
              "      <td>http://fr.openfoodfacts.org/images/products/30...</td>\n",
              "    </tr>\n",
              "    <tr>\n",
              "      <th>189119</th>\n",
              "      <td>http://fr.openfoodfacts.org/images/products/30...</td>\n",
              "    </tr>\n",
              "    <tr>\n",
              "      <th>189152</th>\n",
              "      <td>http://fr.openfoodfacts.org/images/products/30...</td>\n",
              "    </tr>\n",
              "    <tr>\n",
              "      <th>189160</th>\n",
              "      <td>http://fr.openfoodfacts.org/images/products/30...</td>\n",
              "    </tr>\n",
              "    <tr>\n",
              "      <th>189162</th>\n",
              "      <td>http://fr.openfoodfacts.org/images/products/30...</td>\n",
              "    </tr>\n",
              "    <tr>\n",
              "      <th>189168</th>\n",
              "      <td>http://fr.openfoodfacts.org/images/products/30...</td>\n",
              "    </tr>\n",
              "    <tr>\n",
              "      <th>189242</th>\n",
              "      <td>http://fr.openfoodfacts.org/images/products/30...</td>\n",
              "    </tr>\n",
              "    <tr>\n",
              "      <th>189244</th>\n",
              "      <td>http://fr.openfoodfacts.org/images/products/30...</td>\n",
              "    </tr>\n",
              "    <tr>\n",
              "      <th>189250</th>\n",
              "      <td>http://fr.openfoodfacts.org/images/products/30...</td>\n",
              "    </tr>\n",
              "    <tr>\n",
              "      <th>189260</th>\n",
              "      <td>http://fr.openfoodfacts.org/images/products/30...</td>\n",
              "    </tr>\n",
              "    <tr>\n",
              "      <th>189262</th>\n",
              "      <td>http://fr.openfoodfacts.org/images/products/30...</td>\n",
              "    </tr>\n",
              "    <tr>\n",
              "      <th>189269</th>\n",
              "      <td>http://fr.openfoodfacts.org/images/products/30...</td>\n",
              "    </tr>\n",
              "    <tr>\n",
              "      <th>189272</th>\n",
              "      <td>http://fr.openfoodfacts.org/images/products/30...</td>\n",
              "    </tr>\n",
              "    <tr>\n",
              "      <th>189345</th>\n",
              "      <td>http://fr.openfoodfacts.org/images/products/30...</td>\n",
              "    </tr>\n",
              "    <tr>\n",
              "      <th>189404</th>\n",
              "      <td>http://fr.openfoodfacts.org/images/products/30...</td>\n",
              "    </tr>\n",
              "    <tr>\n",
              "      <th>189406</th>\n",
              "      <td>http://fr.openfoodfacts.org/images/products/30...</td>\n",
              "    </tr>\n",
              "    <tr>\n",
              "      <th>189417</th>\n",
              "      <td>http://fr.openfoodfacts.org/images/products/30...</td>\n",
              "    </tr>\n",
              "  </tbody>\n",
              "</table>\n",
              "</div>\n",
              "      <button class=\"colab-df-convert\" onclick=\"convertToInteractive('df-dc5f9ab6-c99c-473f-b02b-1f50e385e14d')\"\n",
              "              title=\"Convert this dataframe to an interactive table.\"\n",
              "              style=\"display:none;\">\n",
              "        \n",
              "  <svg xmlns=\"http://www.w3.org/2000/svg\" height=\"24px\"viewBox=\"0 0 24 24\"\n",
              "       width=\"24px\">\n",
              "    <path d=\"M0 0h24v24H0V0z\" fill=\"none\"/>\n",
              "    <path d=\"M18.56 5.44l.94 2.06.94-2.06 2.06-.94-2.06-.94-.94-2.06-.94 2.06-2.06.94zm-11 1L8.5 8.5l.94-2.06 2.06-.94-2.06-.94L8.5 2.5l-.94 2.06-2.06.94zm10 10l.94 2.06.94-2.06 2.06-.94-2.06-.94-.94-2.06-.94 2.06-2.06.94z\"/><path d=\"M17.41 7.96l-1.37-1.37c-.4-.4-.92-.59-1.43-.59-.52 0-1.04.2-1.43.59L10.3 9.45l-7.72 7.72c-.78.78-.78 2.05 0 2.83L4 21.41c.39.39.9.59 1.41.59.51 0 1.02-.2 1.41-.59l7.78-7.78 2.81-2.81c.8-.78.8-2.07 0-2.86zM5.41 20L4 18.59l7.72-7.72 1.47 1.35L5.41 20z\"/>\n",
              "  </svg>\n",
              "      </button>\n",
              "      \n",
              "  <style>\n",
              "    .colab-df-container {\n",
              "      display:flex;\n",
              "      flex-wrap:wrap;\n",
              "      gap: 12px;\n",
              "    }\n",
              "\n",
              "    .colab-df-convert {\n",
              "      background-color: #E8F0FE;\n",
              "      border: none;\n",
              "      border-radius: 50%;\n",
              "      cursor: pointer;\n",
              "      display: none;\n",
              "      fill: #1967D2;\n",
              "      height: 32px;\n",
              "      padding: 0 0 0 0;\n",
              "      width: 32px;\n",
              "    }\n",
              "\n",
              "    .colab-df-convert:hover {\n",
              "      background-color: #E2EBFA;\n",
              "      box-shadow: 0px 1px 2px rgba(60, 64, 67, 0.3), 0px 1px 3px 1px rgba(60, 64, 67, 0.15);\n",
              "      fill: #174EA6;\n",
              "    }\n",
              "\n",
              "    [theme=dark] .colab-df-convert {\n",
              "      background-color: #3B4455;\n",
              "      fill: #D2E3FC;\n",
              "    }\n",
              "\n",
              "    [theme=dark] .colab-df-convert:hover {\n",
              "      background-color: #434B5C;\n",
              "      box-shadow: 0px 1px 3px 1px rgba(0, 0, 0, 0.15);\n",
              "      filter: drop-shadow(0px 1px 2px rgba(0, 0, 0, 0.3));\n",
              "      fill: #FFFFFF;\n",
              "    }\n",
              "  </style>\n",
              "\n",
              "      <script>\n",
              "        const buttonEl =\n",
              "          document.querySelector('#df-dc5f9ab6-c99c-473f-b02b-1f50e385e14d button.colab-df-convert');\n",
              "        buttonEl.style.display =\n",
              "          google.colab.kernel.accessAllowed ? 'block' : 'none';\n",
              "\n",
              "        async function convertToInteractive(key) {\n",
              "          const element = document.querySelector('#df-dc5f9ab6-c99c-473f-b02b-1f50e385e14d');\n",
              "          const dataTable =\n",
              "            await google.colab.kernel.invokeFunction('convertToInteractive',\n",
              "                                                     [key], {});\n",
              "          if (!dataTable) return;\n",
              "\n",
              "          const docLinkHtml = 'Like what you see? Visit the ' +\n",
              "            '<a target=\"_blank\" href=https://colab.research.google.com/notebooks/data_table.ipynb>data table notebook</a>'\n",
              "            + ' to learn more about interactive tables.';\n",
              "          element.innerHTML = '';\n",
              "          dataTable['output_type'] = 'display_data';\n",
              "          await google.colab.output.renderOutput(dataTable, element);\n",
              "          const docLink = document.createElement('div');\n",
              "          docLink.innerHTML = docLinkHtml;\n",
              "          element.appendChild(docLink);\n",
              "        }\n",
              "      </script>\n",
              "    </div>\n",
              "  </div>\n",
              "  "
            ]
          },
          "metadata": {},
          "execution_count": 15
        }
      ]
    },
    {
      "cell_type": "markdown",
      "source": [
        "## Preprocessing via NLP :"
      ],
      "metadata": {
        "id": "QHh4Jl7-DWru"
      }
    },
    {
      "cell_type": "code",
      "source": [
        "import pandas as pd\n",
        "import nltk\n",
        "from nltk.corpus import stopwords\n",
        "from nltk.tokenize import word_tokenize\n",
        "from nltk.stem import WordNetLemmatizer\n",
        "import langid"
      ],
      "metadata": {
        "id": "-q2iF-SQEN-p"
      },
      "execution_count": 16,
      "outputs": []
    },
    {
      "cell_type": "markdown",
      "source": [
        "### Fonction importantes :"
      ],
      "metadata": {
        "id": "xOMpUHh7EJte"
      }
    },
    {
      "cell_type": "code",
      "source": [],
      "metadata": {
        "id": "-iNBF03tkIFK"
      },
      "execution_count": null,
      "outputs": []
    },
    {
      "cell_type": "code",
      "source": [],
      "metadata": {
        "id": "StxrsOvckIKv"
      },
      "execution_count": null,
      "outputs": []
    },
    {
      "cell_type": "code",
      "source": [],
      "metadata": {
        "id": "yCRQQE3okIMv"
      },
      "execution_count": null,
      "outputs": []
    }
  ]
}